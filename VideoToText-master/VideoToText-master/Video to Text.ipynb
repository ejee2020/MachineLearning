{
 "cells": [
  {
   "cell_type": "markdown",
   "metadata": {},
   "source": [
    "## 0. Install and Import Dependencies"
   ]
  },
  {
   "cell_type": "code",
   "execution_count": 1,
   "metadata": {},
   "outputs": [
    {
     "name": "stdout",
     "output_type": "stream",
     "text": [
      "Requirement already satisfied: ibm_watson in c:\\users\\ewjee\\appdata\\local\\programs\\python\\python37\\lib\\site-packages (5.2.2)\n",
      "Requirement already satisfied: python-dateutil>=2.5.3 in c:\\users\\ewjee\\appdata\\local\\programs\\python\\python37\\lib\\site-packages (from ibm_watson) (2.8.2)\n",
      "Requirement already satisfied: ibm-cloud-sdk-core==3.*,>=3.3.6 in c:\\users\\ewjee\\appdata\\local\\programs\\python\\python37\\lib\\site-packages (from ibm_watson) (3.10.1)\n",
      "Requirement already satisfied: websocket-client==1.1.0 in c:\\users\\ewjee\\appdata\\local\\programs\\python\\python37\\lib\\site-packages (from ibm_watson) (1.1.0)\n",
      "Requirement already satisfied: requests<3.0,>=2.0 in c:\\users\\ewjee\\appdata\\local\\programs\\python\\python37\\lib\\site-packages (from ibm_watson) (2.25.1)\n",
      "Requirement already satisfied: six>=1.5 in c:\\users\\ewjee\\appdata\\local\\programs\\python\\python37\\lib\\site-packages (from python-dateutil>=2.5.3->ibm_watson) (1.15.0)\n",
      "Requirement already satisfied: PyJWT<3.0.0,>=2.0.1 in c:\\users\\ewjee\\appdata\\local\\programs\\python\\python37\\lib\\site-packages (from ibm-cloud-sdk-core==3.*,>=3.3.6->ibm_watson) (2.1.0)\n",
      "Requirement already satisfied: idna<3,>=2.5 in c:\\users\\ewjee\\appdata\\local\\programs\\python\\python37\\lib\\site-packages (from requests<3.0,>=2.0->ibm_watson) (2.10)\n",
      "Requirement already satisfied: chardet<5,>=3.0.2 in c:\\users\\ewjee\\appdata\\local\\programs\\python\\python37\\lib\\site-packages (from requests<3.0,>=2.0->ibm_watson) (4.0.0)\n",
      "Requirement already satisfied: urllib3<1.27,>=1.21.1 in c:\\users\\ewjee\\appdata\\local\\programs\\python\\python37\\lib\\site-packages (from requests<3.0,>=2.0->ibm_watson) (1.26.6)\n",
      "Requirement already satisfied: certifi>=2017.4.17 in c:\\users\\ewjee\\appdata\\local\\programs\\python\\python37\\lib\\site-packages (from requests<3.0,>=2.0->ibm_watson) (2021.5.30)\n"
     ]
    },
    {
     "name": "stderr",
     "output_type": "stream",
     "text": [
      "You are using pip version 10.0.1, however version 21.1.3 is available.\n",
      "You should consider upgrading via the 'python -m pip install --upgrade pip' command.\n",
      "'brew'은(는) 내부 또는 외부 명령, 실행할 수 있는 프로그램, 또는\n",
      "배치 파일이 아닙니다.\n"
     ]
    }
   ],
   "source": [
    "!pip install ibm_watson\n",
    "!brew install ffmpeg"
   ]
  },
  {
   "cell_type": "code",
   "execution_count": 1,
   "metadata": {},
   "outputs": [],
   "source": [
    "import subprocess\n",
    "from ibm_watson import SpeechToTextV1\n",
    "from ibm_watson.websocket import RecognizeCallback, AudioSource\n",
    "from ibm_cloud_sdk_core.authenticators import IAMAuthenticator"
   ]
  },
  {
   "cell_type": "markdown",
   "metadata": {},
   "source": [
    "## 1. Extract Audio"
   ]
  },
  {
   "cell_type": "code",
   "execution_count": 3,
   "metadata": {},
   "outputs": [
    {
     "data": {
      "text/plain": [
       "0"
      ]
     },
     "execution_count": 3,
     "metadata": {},
     "output_type": "execute_result"
    }
   ],
   "source": [
    "command = 'ffmpeg -i biden.mkv -ab 160k -ar 44100 -vn audio2.wav'\n",
    "subprocess.call(command, shell=True)"
   ]
  },
  {
   "cell_type": "markdown",
   "metadata": {},
   "source": [
    "## 2. Setup STT Service"
   ]
  },
  {
   "cell_type": "code",
   "execution_count": 4,
   "metadata": {},
   "outputs": [],
   "source": [
    "apikey = 'AO5rJRWMB-mL4UWhth9OOGZ4g98QbN9MjBp_I4Ofdh1m'\n",
    "url = 'https://api.us-south.speech-to-text.watson.cloud.ibm.com/instances/8dabf629-e3ca-4886-8d16-95512b0780e9'"
   ]
  },
  {
   "cell_type": "code",
   "execution_count": 5,
   "metadata": {},
   "outputs": [],
   "source": [
    "# Setup service\n",
    "authenticator = IAMAuthenticator(apikey)\n",
    "stt = SpeechToTextV1(authenticator=authenticator)\n",
    "stt.set_service_url(url)"
   ]
  },
  {
   "cell_type": "markdown",
   "metadata": {},
   "source": [
    "## 3. Open Audio Source and Convert"
   ]
  },
  {
   "cell_type": "code",
   "execution_count": 10,
   "metadata": {},
   "outputs": [],
   "source": [
    "with open('audio2.wav', 'rb') as f:\n",
    "    res = stt.recognize(audio=f, content_type='audio/wav', model='en-US_NarrowbandModel', continuous=True).get_result()"
   ]
  },
  {
   "cell_type": "code",
   "execution_count": 11,
   "metadata": {},
   "outputs": [
    {
     "data": {
      "text/plain": [
       "{'result_index': 0,\n",
       " 'results': [{'final': True,\n",
       "   'alternatives': [{'transcript': \"there's a new one %HESITATION holding us all \",\n",
       "     'confidence': 0.42}]},\n",
       "  {'final': True,\n",
       "   'alternatives': [{'transcript': 'taking place in America today the job to suppress and subvert ',\n",
       "     'confidence': 0.61}]},\n",
       "  {'final': True,\n",
       "   'alternatives': [{'transcript': 'right to vote ', 'confidence': 0.59}]},\n",
       "  {'final': True,\n",
       "   'alternatives': [{'transcript': 'fair and free elections ',\n",
       "     'confidence': 0.81}]},\n",
       "  {'final': True,\n",
       "   'alternatives': [{'transcript': 'it was sold on the market ',\n",
       "     'confidence': 0.64}]},\n",
       "  {'final': True,\n",
       "   'alternatives': [{'transcript': 'an assault on liberty ',\n",
       "     'confidence': 0.44}]},\n",
       "  {'final': True,\n",
       "   'alternatives': [{'transcript': 'sold on who we are ',\n",
       "     'confidence': 0.75}]},\n",
       "  {'final': True,\n",
       "   'alternatives': [{'transcript': 'who we are as Americans ',\n",
       "     'confidence': 0.55}]},\n",
       "  {'final': True,\n",
       "   'alternatives': [{'transcript': 'or make no mistake ',\n",
       "     'confidence': 0.72}]},\n",
       "  {'final': True,\n",
       "   'alternatives': [{'transcript': 'boys emerges your fear colors of why ',\n",
       "     'confidence': 0.62}]},\n",
       "  {'final': True,\n",
       "   'alternatives': [{'transcript': 'are threatening the very foundation of our country ',\n",
       "     'confidence': 0.84}]},\n",
       "  {'final': True,\n",
       "   'alternatives': [{'transcript': 'give me no pleasure to say this ',\n",
       "     'confidence': 0.7}]},\n",
       "  {'final': True,\n",
       "   'alternatives': [{'transcript': 'I never thought my heart forever I have to say ',\n",
       "     'confidence': 0.7}]},\n",
       "  {'final': True,\n",
       "   'alternatives': [{'transcript': 'but I swore no to you ',\n",
       "     'confidence': 0.77}]},\n",
       "  {'final': True,\n",
       "   'alternatives': [{'transcript': 'to god to preserve protect and defend the constitution ',\n",
       "     'confidence': 0.93}]},\n",
       "  {'final': True,\n",
       "   'alternatives': [{'transcript': \"that's another forms a sacred trust \",\n",
       "     'confidence': 0.8}]},\n",
       "  {'final': True,\n",
       "   'alternatives': [{'transcript': \"to defend Americans all threshold foreign and domestic something's in America should be simple and straight forward \",\n",
       "     'confidence': 0.71}]},\n",
       "  {'final': True,\n",
       "   'alternatives': [{'transcript': 'perhaps the most important of those things the most fundamental of those things is the right to vote two thousand twenty ',\n",
       "     'confidence': 0.94}]},\n",
       "  {'final': True,\n",
       "   'alternatives': [{'transcript': 'more people vote in America than ever ',\n",
       "     'confidence': 0.7}]},\n",
       "  {'final': True,\n",
       "   'alternatives': [{'transcript': 'ever in the history of American ',\n",
       "     'confidence': 0.72}]},\n",
       "  {'final': True,\n",
       "   'alternatives': [{'transcript': 'in the middle of a one ',\n",
       "     'confidence': 0.83}]},\n",
       "  {'final': True,\n",
       "   'alternatives': [{'transcript': 'and then ', 'confidence': 0.53}]},\n",
       "  {'final': True,\n",
       "   'alternatives': [{'transcript': 'no other election has ever been held ',\n",
       "     'confidence': 0.7}]},\n",
       "  {'final': True,\n",
       "   'alternatives': [{'transcript': 'under such scrutiny such high standards ',\n",
       "     'confidence': 0.49}]},\n",
       "  {'final': True,\n",
       "   'alternatives': [{'transcript': 'the big wise yes that a big why this is the one you ',\n",
       "     'confidence': 0.7}]},\n",
       "  {'final': True,\n",
       "   'alternatives': [{'transcript': \"I'm saying this because you should be a long \",\n",
       "     'confidence': 0.83}]},\n",
       "  {'final': True,\n",
       "   'alternatives': [{'transcript': \"I'm also saying this \",\n",
       "     'confidence': 0.72}]},\n",
       "  {'final': True,\n",
       "   'alternatives': [{'transcript': \"there's good news \", 'confidence': 0.85}]},\n",
       "  {'final': True,\n",
       "   'alternatives': [{'transcript': \"doesn't have to be this way \",\n",
       "     'confidence': 0.96}]},\n",
       "  {'final': True,\n",
       "   'alternatives': [{'transcript': \"it doesn't have to be for real \",\n",
       "     'confidence': 0.9}]},\n",
       "  {'final': True,\n",
       "   'alternatives': [{'transcript': 'we have the main ', 'confidence': 0.86}]},\n",
       "  {'final': True,\n",
       "   'alternatives': [{'transcript': 'I just need to will ',\n",
       "     'confidence': 0.77}]},\n",
       "  {'final': True,\n",
       "   'alternatives': [{'transcript': 'will to save and strengthen our democracy ',\n",
       "     'confidence': 0.49}]},\n",
       "  {'final': True,\n",
       "   'alternatives': [{'transcript': \"we didn't twenty we did in the twenty twenty \",\n",
       "     'confidence': 0.89}]},\n",
       "  {'final': True,\n",
       "   'alternatives': [{'transcript': 'the battle for the soul of America ',\n",
       "     'confidence': 0.85}]},\n",
       "  {'final': True,\n",
       "   'alternatives': [{'transcript': 'in that battle the people voted ',\n",
       "     'confidence': 0.79}]},\n",
       "  {'final': True,\n",
       "   'alternatives': [{'transcript': 'democracies rail ', 'confidence': 0.43}]},\n",
       "  {'final': True,\n",
       "   'alternatives': [{'transcript': \"our constitution hello this isn't about Democrats Republicans \",\n",
       "     'confidence': 0.77}]},\n",
       "  {'final': True,\n",
       "   'alternatives': [{'transcript': \"it's more about who we are as Americans that basic \",\n",
       "     'confidence': 0.79}]},\n",
       "  {'final': True,\n",
       "   'alternatives': [{'transcript': \"it's not the kind of country we want today \",\n",
       "     'confidence': 0.73}]},\n",
       "  {'final': True,\n",
       "   'alternatives': [{'transcript': 'what kind of country we want for our children and grandchildren the moral ',\n",
       "     'confidence': 0.85}]},\n",
       "  {'final': True,\n",
       "   'alternatives': [{'transcript': 'and quite frankly the whole world is watching ',\n",
       "     'confidence': 0.96}]}]}"
      ]
     },
     "execution_count": 11,
     "metadata": {},
     "output_type": "execute_result"
    }
   ],
   "source": [
    "res"
   ]
  },
  {
   "cell_type": "markdown",
   "metadata": {},
   "source": [
    "## 4. Process Results and Output to Text"
   ]
  },
  {
   "cell_type": "code",
   "execution_count": 12,
   "metadata": {},
   "outputs": [
    {
     "data": {
      "text/plain": [
       "4"
      ]
     },
     "execution_count": 12,
     "metadata": {},
     "output_type": "execute_result"
    }
   ],
   "source": [
    "len(res['results'])"
   ]
  },
  {
   "cell_type": "code",
   "execution_count": 13,
   "metadata": {},
   "outputs": [],
   "source": [
    "text = [result['alternatives'][0]['transcript'].rstrip() + '.\\n' for result in res['results']]"
   ]
  },
  {
   "cell_type": "code",
   "execution_count": 14,
   "metadata": {},
   "outputs": [],
   "source": [
    "text = [para[0].title() + para[1:] for para in text]\n",
    "transcript = ''.join(text)\n",
    "with open('output.txt', 'w') as out:\n",
    "    out.writelines(transcript)"
   ]
  },
  {
   "cell_type": "code",
   "execution_count": 15,
   "metadata": {},
   "outputs": [
    {
     "data": {
      "text/plain": [
       "'Transaction accounts.\\nAbsolutely right by conducted a heartwarming that balance choir inquired to fake it but yada start giving up on the point cut still lose so what.\\nSpecify.\\nI had a couple of staying with the point of contact at all.\\n'"
      ]
     },
     "execution_count": 15,
     "metadata": {},
     "output_type": "execute_result"
    }
   ],
   "source": [
    "transcript"
   ]
  },
  {
   "cell_type": "code",
   "execution_count": null,
   "metadata": {},
   "outputs": [],
   "source": []
  },
  {
   "cell_type": "code",
   "execution_count": null,
   "metadata": {},
   "outputs": [],
   "source": []
  }
 ],
 "metadata": {
  "kernelspec": {
   "display_name": "Python 3 (ipykernel)",
   "language": "python",
   "name": "python3"
  },
  "language_info": {
   "codemirror_mode": {
    "name": "ipython",
    "version": 3
   },
   "file_extension": ".py",
   "mimetype": "text/x-python",
   "name": "python",
   "nbconvert_exporter": "python",
   "pygments_lexer": "ipython3",
   "version": "3.7.0"
  }
 },
 "nbformat": 4,
 "nbformat_minor": 2
}
