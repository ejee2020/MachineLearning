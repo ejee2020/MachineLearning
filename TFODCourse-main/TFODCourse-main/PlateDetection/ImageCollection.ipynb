{
 "cells": [
  {
   "cell_type": "markdown",
   "metadata": {},
   "source": [
    "# 1. Import Dependencies"
   ]
  },
  {
   "cell_type": "code",
   "execution_count": 1,
   "metadata": {},
   "outputs": [
    {
     "name": "stdout",
     "output_type": "stream",
     "text": [
      "Collecting opencv-python\n",
      "  Downloading opencv_python-4.5.2.54-cp37-cp37m-win_amd64.whl (34.7 MB)\n",
      "Collecting numpy>=1.14.5\n",
      "  Using cached numpy-1.21.0-cp37-cp37m-win_amd64.whl (13.9 MB)\n",
      "Installing collected packages: numpy, opencv-python\n",
      "Successfully installed numpy-1.21.0 opencv-python-4.5.2.54\n"
     ]
    }
   ],
   "source": [
    "!pip install opencv-python"
   ]
  },
  {
   "cell_type": "code",
   "execution_count": 2,
   "metadata": {},
   "outputs": [],
   "source": [
    "# Import opencv\n",
    "import cv2 \n",
    "\n",
    "# Import uuid\n",
    "import uuid\n",
    "\n",
    "# Import Operating System\n",
    "import os\n",
    "\n",
    "# Import time\n",
    "import time"
   ]
  },
  {
   "cell_type": "markdown",
   "metadata": {},
   "source": [
    "# 2. Define Images to Collect"
   ]
  },
  {
   "cell_type": "code",
   "execution_count": 3,
   "metadata": {},
   "outputs": [],
   "source": [
    "labels = ['thumbsup', 'thumbsdown', 'thankyou', 'livelong']\n",
    "number_imgs = 5"
   ]
  },
  {
   "cell_type": "markdown",
   "metadata": {},
   "source": [
    "# 3. Setup Folders "
   ]
  },
  {
   "cell_type": "code",
   "execution_count": 4,
   "metadata": {},
   "outputs": [],
   "source": [
    "IMAGES_PATH = os.path.join('Tensorflow', 'workspace', 'images', 'collectedimages')"
   ]
  },
  {
   "cell_type": "code",
   "execution_count": 5,
   "metadata": {},
   "outputs": [],
   "source": [
    "if not os.path.exists(IMAGES_PATH):\n",
    "    if os.name == 'posix':\n",
    "        !mkdir -p {IMAGES_PATH}\n",
    "    if os.name == 'nt':\n",
    "         !mkdir {IMAGES_PATH}\n",
    "for label in labels:\n",
    "    path = os.path.join(IMAGES_PATH, label)\n",
    "    if not os.path.exists(path):\n",
    "        !mkdir {path}"
   ]
  },
  {
   "cell_type": "markdown",
   "metadata": {},
   "source": [
    "# 4. Capture Images"
   ]
  },
  {
   "cell_type": "code",
   "execution_count": 7,
   "metadata": {},
   "outputs": [
    {
     "name": "stdout",
     "output_type": "stream",
     "text": [
      "Collecting images for thumbsup\n",
      "Collecting image 0\n"
     ]
    },
    {
     "ename": "error",
     "evalue": "OpenCV(4.5.2) C:\\Users\\runneradmin\\AppData\\Local\\Temp\\pip-req-build-j9rbzklz\\opencv\\modules\\imgcodecs\\src\\loadsave.cpp:721: error: (-215:Assertion failed) !_img.empty() in function 'cv::imwrite'\n",
     "output_type": "error",
     "traceback": [
      "\u001b[1;31m---------------------------------------------------------------------------\u001b[0m",
      "\u001b[1;31merror\u001b[0m                                     Traceback (most recent call last)",
      "\u001b[1;32mC:\\Users\\Public\\Documents\\ESTsoft\\CreatorTemp/ipykernel_26372/1004706123.py\u001b[0m in \u001b[0;36m<module>\u001b[1;34m\u001b[0m\n\u001b[0;32m      7\u001b[0m         \u001b[0mret\u001b[0m\u001b[1;33m,\u001b[0m \u001b[0mframe\u001b[0m \u001b[1;33m=\u001b[0m \u001b[0mcap\u001b[0m\u001b[1;33m.\u001b[0m\u001b[0mread\u001b[0m\u001b[1;33m(\u001b[0m\u001b[1;33m)\u001b[0m\u001b[1;33m\u001b[0m\u001b[1;33m\u001b[0m\u001b[0m\n\u001b[0;32m      8\u001b[0m         \u001b[0mimgname\u001b[0m \u001b[1;33m=\u001b[0m \u001b[0mos\u001b[0m\u001b[1;33m.\u001b[0m\u001b[0mpath\u001b[0m\u001b[1;33m.\u001b[0m\u001b[0mjoin\u001b[0m\u001b[1;33m(\u001b[0m\u001b[0mIMAGES_PATH\u001b[0m\u001b[1;33m,\u001b[0m\u001b[0mlabel\u001b[0m\u001b[1;33m,\u001b[0m\u001b[0mlabel\u001b[0m\u001b[1;33m+\u001b[0m\u001b[1;34m'.'\u001b[0m\u001b[1;33m+\u001b[0m\u001b[1;34m'{}.jpg'\u001b[0m\u001b[1;33m.\u001b[0m\u001b[0mformat\u001b[0m\u001b[1;33m(\u001b[0m\u001b[0mstr\u001b[0m\u001b[1;33m(\u001b[0m\u001b[0muuid\u001b[0m\u001b[1;33m.\u001b[0m\u001b[0muuid1\u001b[0m\u001b[1;33m(\u001b[0m\u001b[1;33m)\u001b[0m\u001b[1;33m)\u001b[0m\u001b[1;33m)\u001b[0m\u001b[1;33m)\u001b[0m\u001b[1;33m\u001b[0m\u001b[1;33m\u001b[0m\u001b[0m\n\u001b[1;32m----> 9\u001b[1;33m         \u001b[0mcv2\u001b[0m\u001b[1;33m.\u001b[0m\u001b[0mimwrite\u001b[0m\u001b[1;33m(\u001b[0m\u001b[0mimgname\u001b[0m\u001b[1;33m,\u001b[0m \u001b[0mframe\u001b[0m\u001b[1;33m)\u001b[0m\u001b[1;33m\u001b[0m\u001b[1;33m\u001b[0m\u001b[0m\n\u001b[0m\u001b[0;32m     10\u001b[0m         \u001b[0mcv2\u001b[0m\u001b[1;33m.\u001b[0m\u001b[0mimshow\u001b[0m\u001b[1;33m(\u001b[0m\u001b[1;34m'frame'\u001b[0m\u001b[1;33m,\u001b[0m \u001b[0mframe\u001b[0m\u001b[1;33m)\u001b[0m\u001b[1;33m\u001b[0m\u001b[1;33m\u001b[0m\u001b[0m\n\u001b[0;32m     11\u001b[0m         \u001b[0mtime\u001b[0m\u001b[1;33m.\u001b[0m\u001b[0msleep\u001b[0m\u001b[1;33m(\u001b[0m\u001b[1;36m2\u001b[0m\u001b[1;33m)\u001b[0m\u001b[1;33m\u001b[0m\u001b[1;33m\u001b[0m\u001b[0m\n",
      "\u001b[1;31merror\u001b[0m: OpenCV(4.5.2) C:\\Users\\runneradmin\\AppData\\Local\\Temp\\pip-req-build-j9rbzklz\\opencv\\modules\\imgcodecs\\src\\loadsave.cpp:721: error: (-215:Assertion failed) !_img.empty() in function 'cv::imwrite'\n"
     ]
    }
   ],
   "source": [
    "for label in labels:\n",
    "    cap = cv2.VideoCapture(0)\n",
    "    print('Collecting images for {}'.format(label))\n",
    "    time.sleep(5)\n",
    "    for imgnum in range(number_imgs):\n",
    "        print('Collecting image {}'.format(imgnum))\n",
    "        ret, frame = cap.read()\n",
    "        imgname = os.path.join(IMAGES_PATH,label,label+'.'+'{}.jpg'.format(str(uuid.uuid1())))\n",
    "        cv2.imwrite(imgname, frame)\n",
    "        cv2.imshow('frame', frame)\n",
    "        time.sleep(2)\n",
    "\n",
    "        if cv2.waitKey(1) & 0xFF == ord('q'):\n",
    "            break\n",
    "cap.release()\n",
    "cv2.destroyAllWindows()"
   ]
  },
  {
   "cell_type": "markdown",
   "metadata": {},
   "source": [
    "# 5. Image Labelling"
   ]
  },
  {
   "cell_type": "code",
   "execution_count": 6,
   "metadata": {},
   "outputs": [
    {
     "name": "stdout",
     "output_type": "stream",
     "text": [
      "Collecting pyqt5\n",
      "  Using cached PyQt5-5.15.4-cp36.cp37.cp38.cp39-none-win_amd64.whl (6.8 MB)\n",
      "Collecting lxml\n",
      "  Downloading lxml-4.6.3-cp37-cp37m-win_amd64.whl (3.5 MB)\n",
      "Collecting PyQt5-sip<13,>=12.8\n",
      "  Downloading PyQt5_sip-12.9.0-cp37-cp37m-win_amd64.whl (62 kB)\n",
      "Collecting PyQt5-Qt5>=5.15\n",
      "  Using cached PyQt5_Qt5-5.15.2-py3-none-win_amd64.whl (50.1 MB)\n",
      "Installing collected packages: PyQt5-sip, PyQt5-Qt5, pyqt5, lxml\n",
      "Successfully installed PyQt5-Qt5-5.15.2 PyQt5-sip-12.9.0 lxml-4.6.3 pyqt5-5.15.4\n"
     ]
    }
   ],
   "source": [
    "!pip install --upgrade pyqt5 lxml"
   ]
  },
  {
   "cell_type": "code",
   "execution_count": 7,
   "metadata": {},
   "outputs": [],
   "source": [
    "LABELIMG_PATH = os.path.join('Tensorflow', 'labelimg')"
   ]
  },
  {
   "cell_type": "code",
   "execution_count": 8,
   "metadata": {},
   "outputs": [],
   "source": [
    "if not os.path.exists(LABELIMG_PATH):\n",
    "    !mkdir {LABELIMG_PATH}\n",
    "    !git clone https://github.com/tzutalin/labelImg {LABELIMG_PATH}"
   ]
  },
  {
   "cell_type": "code",
   "execution_count": 9,
   "metadata": {},
   "outputs": [],
   "source": [
    "if os.name == 'posix':\n",
    "    !make qt5py3\n",
    "if os.name =='nt':\n",
    "    !cd {LABELIMG_PATH} && pyrcc5 -o libs/resources.py resources.qrc"
   ]
  },
  {
   "cell_type": "code",
   "execution_count": 12,
   "metadata": {},
   "outputs": [
    {
     "name": "stdout",
     "output_type": "stream",
     "text": [
      "Image:C:\\Users\\ewjee\\Downloads\\TFODCourse-main\\TFODCourse-main\\Tensorflow\\workspace\\images\\collectedimages\\livelong\\Photo on 7-5-21 at 4.23 PM #2.jpg -> Annotation:C:/Users/ewjee/Downloads/TFODCourse-main/TFODCourse-main/Tensorflow/workspace/images/collectedimages/livelong/Photo on 7-5-21 at 4.23 PM #2.xml\n",
      "Image:C:\\Users\\ewjee\\Downloads\\TFODCourse-main\\TFODCourse-main\\Tensorflow\\workspace\\images\\collectedimages\\livelong\\Photo on 7-5-21 at 4.23 PM #3.jpg -> Annotation:C:/Users/ewjee/Downloads/TFODCourse-main/TFODCourse-main/Tensorflow/workspace/images/collectedimages/livelong/Photo on 7-5-21 at 4.23 PM #3.xml\n",
      "Image:C:\\Users\\ewjee\\Downloads\\TFODCourse-main\\TFODCourse-main\\Tensorflow\\workspace\\images\\collectedimages\\livelong\\Photo on 7-5-21 at 4.23 PM #4.jpg -> Annotation:C:/Users/ewjee/Downloads/TFODCourse-main/TFODCourse-main/Tensorflow/workspace/images/collectedimages/livelong/Photo on 7-5-21 at 4.23 PM #4.xml\n",
      "Image:C:\\Users\\ewjee\\Downloads\\TFODCourse-main\\TFODCourse-main\\Tensorflow\\workspace\\images\\collectedimages\\livelong\\Photo on 7-5-21 at 4.23 PM.jpg -> Annotation:C:/Users/ewjee/Downloads/TFODCourse-main/TFODCourse-main/Tensorflow/workspace/images/collectedimages/livelong/Photo on 7-5-21 at 4.23 PM.xml\n",
      "Image:C:\\Users\\ewjee\\Downloads\\TFODCourse-main\\TFODCourse-main\\Tensorflow\\workspace\\images\\collectedimages\\livelong\\Photo on 7-5-21 at 4.24 PM.jpg -> Annotation:C:/Users/ewjee/Downloads/TFODCourse-main/TFODCourse-main/Tensorflow/workspace/images/collectedimages/livelong/Photo on 7-5-21 at 4.24 PM.xml\n",
      "Image:C:\\Users\\ewjee\\Downloads\\TFODCourse-main\\TFODCourse-main\\Tensorflow\\workspace\\images\\collectedimages\\thankyou\\Photo on 7-5-21 at 4.21 PM #2 #2.jpg -> Annotation:C:/Users/ewjee/Downloads/TFODCourse-main/TFODCourse-main/Tensorflow/workspace/images/collectedimages/thankyou/Photo on 7-5-21 at 4.21 PM #2 #2.xml\n",
      "Image:C:\\Users\\ewjee\\Downloads\\TFODCourse-main\\TFODCourse-main\\Tensorflow\\workspace\\images\\collectedimages\\thankyou\\Photo on 7-5-21 at 4.21 PM #3.jpg -> Annotation:C:/Users/ewjee/Downloads/TFODCourse-main/TFODCourse-main/Tensorflow/workspace/images/collectedimages/thankyou/Photo on 7-5-21 at 4.21 PM #3.xml\n",
      "Cancel creation.\n",
      "Image:C:\\Users\\ewjee\\Downloads\\TFODCourse-main\\TFODCourse-main\\Tensorflow\\workspace\\images\\collectedimages\\thankyou\\Photo on 7-5-21 at 4.21 PM.jpg -> Annotation:C:/Users/ewjee/Downloads/TFODCourse-main/TFODCourse-main/Tensorflow/workspace/images/collectedimages/thankyou/Photo on 7-5-21 at 4.21 PM.xml\n",
      "Image:C:\\Users\\ewjee\\Downloads\\TFODCourse-main\\TFODCourse-main\\Tensorflow\\workspace\\images\\collectedimages\\thankyou\\Photo on 7-5-21 at 4.22 PM #2.jpg -> Annotation:C:/Users/ewjee/Downloads/TFODCourse-main/TFODCourse-main/Tensorflow/workspace/images/collectedimages/thankyou/Photo on 7-5-21 at 4.22 PM #2.xml\n",
      "Image:C:\\Users\\ewjee\\Downloads\\TFODCourse-main\\TFODCourse-main\\Tensorflow\\workspace\\images\\collectedimages\\thankyou\\Photo on 7-5-21 at 4.22 PM.jpg -> Annotation:C:/Users/ewjee/Downloads/TFODCourse-main/TFODCourse-main/Tensorflow/workspace/images/collectedimages/thankyou/Photo on 7-5-21 at 4.22 PM.xml\n",
      "Image:C:\\Users\\ewjee\\Downloads\\TFODCourse-main\\TFODCourse-main\\Tensorflow\\workspace\\images\\collectedimages\\thumbsdown\\Photo on 7-5-21 at 4.17 PM #2.jpg -> Annotation:C:/Users/ewjee/Downloads/TFODCourse-main/TFODCourse-main/Tensorflow/workspace/images/collectedimages/thumbsdown/Photo on 7-5-21 at 4.17 PM #2.xml\n",
      "Image:C:\\Users\\ewjee\\Downloads\\TFODCourse-main\\TFODCourse-main\\Tensorflow\\workspace\\images\\collectedimages\\thumbsdown\\Photo on 7-5-21 at 4.17 PM #3.jpg -> Annotation:C:/Users/ewjee/Downloads/TFODCourse-main/TFODCourse-main/Tensorflow/workspace/images/collectedimages/thumbsdown/Photo on 7-5-21 at 4.17 PM #3.xml\n",
      "Image:C:\\Users\\ewjee\\Downloads\\TFODCourse-main\\TFODCourse-main\\Tensorflow\\workspace\\images\\collectedimages\\thumbsdown\\Photo on 7-5-21 at 4.17 PM #4.jpg -> Annotation:C:/Users/ewjee/Downloads/TFODCourse-main/TFODCourse-main/Tensorflow/workspace/images/collectedimages/thumbsdown/Photo on 7-5-21 at 4.17 PM #4.xml\n",
      "Image:C:\\Users\\ewjee\\Downloads\\TFODCourse-main\\TFODCourse-main\\Tensorflow\\workspace\\images\\collectedimages\\thumbsdown\\Photo on 7-5-21 at 4.17 PM.jpg -> Annotation:C:/Users/ewjee/Downloads/TFODCourse-main/TFODCourse-main/Tensorflow/workspace/images/collectedimages/thumbsdown/Photo on 7-5-21 at 4.17 PM.xml\n",
      "Image:C:\\Users\\ewjee\\Downloads\\TFODCourse-main\\TFODCourse-main\\Tensorflow\\workspace\\images\\collectedimages\\thumbsdown\\Photo on 7-5-21 at 4.18 PM.jpg -> Annotation:C:/Users/ewjee/Downloads/TFODCourse-main/TFODCourse-main/Tensorflow/workspace/images/collectedimages/thumbsdown/Photo on 7-5-21 at 4.18 PM.xml\n",
      "Image:C:\\Users\\ewjee\\Downloads\\TFODCourse-main\\TFODCourse-main\\Tensorflow\\workspace\\images\\collectedimages\\thumbsup\\Photo on 7-5-21 at 4.15 PM.jpg -> Annotation:C:/Users/ewjee/Downloads/TFODCourse-main/TFODCourse-main/Tensorflow/workspace/images/collectedimages/thumbsup/Photo on 7-5-21 at 4.15 PM.xml\n",
      "Image:C:\\Users\\ewjee\\Downloads\\TFODCourse-main\\TFODCourse-main\\Tensorflow\\workspace\\images\\collectedimages\\thumbsup\\Photo on 7-5-21 at 4.16 PM #2.jpg -> Annotation:C:/Users/ewjee/Downloads/TFODCourse-main/TFODCourse-main/Tensorflow/workspace/images/collectedimages/thumbsup/Photo on 7-5-21 at 4.16 PM #2.xml\n",
      "Image:C:\\Users\\ewjee\\Downloads\\TFODCourse-main\\TFODCourse-main\\Tensorflow\\workspace\\images\\collectedimages\\thumbsup\\Photo on 7-5-21 at 4.16 PM #3.jpg -> Annotation:C:/Users/ewjee/Downloads/TFODCourse-main/TFODCourse-main/Tensorflow/workspace/images/collectedimages/thumbsup/Photo on 7-5-21 at 4.16 PM #3.xml\n",
      "Image:C:\\Users\\ewjee\\Downloads\\TFODCourse-main\\TFODCourse-main\\Tensorflow\\workspace\\images\\collectedimages\\thumbsup\\Photo on 7-5-21 at 4.16 PM #4.jpg -> Annotation:C:/Users/ewjee/Downloads/TFODCourse-main/TFODCourse-main/Tensorflow/workspace/images/collectedimages/thumbsup/Photo on 7-5-21 at 4.16 PM #4.xml\n",
      "Image:C:\\Users\\ewjee\\Downloads\\TFODCourse-main\\TFODCourse-main\\Tensorflow\\workspace\\images\\collectedimages\\thumbsup\\Photo on 7-5-21 at 4.16 PM.jpg -> Annotation:C:/Users/ewjee/Downloads/TFODCourse-main/TFODCourse-main/Tensorflow/workspace/images/collectedimages/thumbsup/Photo on 7-5-21 at 4.16 PM.xml\n"
     ]
    },
    {
     "name": "stderr",
     "output_type": "stream",
     "text": [
      "C:\\Users\\ewjee\\Downloads\\TFODCourse-main\\TFODCourse-main\\Tensorflow\\labelimg\\labelImg.py:965: DeprecationWarning: an integer is required (got type float).  Implicit conversion to integers using __int__ is deprecated, and may be removed in a future version of Python.\n",
      "  bar.setValue(bar.value() + bar.singleStep() * units)\n"
     ]
    }
   ],
   "source": [
    "!cd {LABELIMG_PATH} && python labelImg.py"
   ]
  },
  {
   "cell_type": "markdown",
   "metadata": {},
   "source": [
    "# 6. Move them into a Training and Testing Partition"
   ]
  },
  {
   "cell_type": "markdown",
   "metadata": {},
   "source": [
    "# OPTIONAL - 7. Compress them for Colab Training"
   ]
  },
  {
   "cell_type": "code",
   "execution_count": 11,
   "metadata": {},
   "outputs": [],
   "source": [
    "TRAIN_PATH = os.path.join('Tensorflow', 'workspace', 'images', 'train')\n",
    "TEST_PATH = os.path.join('Tensorflow', 'workspace', 'images', 'test')\n",
    "ARCHIVE_PATH = os.path.join('Tensorflow', 'workspace', 'images', 'archive.tar.gz')"
   ]
  },
  {
   "cell_type": "code",
   "execution_count": 12,
   "metadata": {},
   "outputs": [
    {
     "name": "stderr",
     "output_type": "stream",
     "text": [
      "tar: Tensorflow/workspace/images/train: Couldn't find file: No such file or directory\n",
      "tar: Tensorflow/workspace/images/test: Couldn't find file: No such file or directory\n",
      "tar: Error exit delayed from previous errors.\n"
     ]
    }
   ],
   "source": [
    "!tar -czf {ARCHIVE_PATH} {TRAIN_PATH} {TEST_PATH}"
   ]
  },
  {
   "cell_type": "code",
   "execution_count": null,
   "metadata": {},
   "outputs": [],
   "source": []
  }
 ],
 "metadata": {
  "kernelspec": {
   "display_name": "tfod2",
   "language": "python",
   "name": "tfod2"
  },
  "language_info": {
   "codemirror_mode": {
    "name": "ipython",
    "version": 3
   },
   "file_extension": ".py",
   "mimetype": "text/x-python",
   "name": "python",
   "nbconvert_exporter": "python",
   "pygments_lexer": "ipython3",
   "version": "3.7.0"
  }
 },
 "nbformat": 4,
 "nbformat_minor": 2
}
